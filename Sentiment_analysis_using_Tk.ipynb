{
  "cells": [
    {
      "cell_type": "markdown",
      "metadata": {
        "id": "view-in-github",
        "colab_type": "text"
      },
      "source": [
        "<a href=\"https://colab.research.google.com/github/om4049/om4049/blob/main/Sentiment_analysis_using_Tk.ipynb\" target=\"_parent\"><img src=\"https://colab.research.google.com/assets/colab-badge.svg\" alt=\"Open In Colab\"/></a>"
      ]
    },
    {
      "cell_type": "code",
      "execution_count": null,
      "id": "86eeac94",
      "metadata": {
        "id": "86eeac94",
        "outputId": "2614f35b-8a72-4bac-91c9-7356ed7b9ffb"
      },
      "outputs": [
        {
          "name": "stdout",
          "output_type": "stream",
          "text": [
            "Collecting tk\n",
            "  Downloading tk-0.1.0-py3-none-any.whl (3.9 kB)\n",
            "Installing collected packages: tk\n",
            "Successfully installed tk-0.1.0\n"
          ]
        }
      ],
      "source": [
        "#!pip install tk\n"
      ]
    },
    {
      "cell_type": "code",
      "execution_count": null,
      "id": "7745e0dd",
      "metadata": {
        "id": "7745e0dd",
        "outputId": "fe451402-3f7a-4cb3-a7b7-e566c789e20e"
      },
      "outputs": [
        {
          "name": "stdout",
          "output_type": "stream",
          "text": [
            "Collecting textblob\n",
            "  Downloading textblob-0.17.1-py2.py3-none-any.whl (636 kB)\n",
            "     ---------------------------------------- 0.0/636.8 kB ? eta -:--:--\n",
            "     - -------------------------------------- 30.7/636.8 kB ? eta -:--:--\n",
            "     ------- ------------------------------ 122.9/636.8 kB 1.4 MB/s eta 0:00:01\n",
            "     -------------- ----------------------- 235.5/636.8 kB 2.1 MB/s eta 0:00:01\n",
            "     --------------------- ---------------- 368.6/636.8 kB 2.1 MB/s eta 0:00:01\n",
            "     ------------------------- ------------ 430.1/636.8 kB 2.1 MB/s eta 0:00:01\n",
            "     -------------------------------------  624.6/636.8 kB 2.3 MB/s eta 0:00:01\n",
            "     -------------------------------------- 636.8/636.8 kB 2.0 MB/s eta 0:00:00\n",
            "Requirement already satisfied: nltk>=3.1 in c:\\users\\aishw\\anaconda3\\lib\\site-packages (from textblob) (3.8.1)\n",
            "Requirement already satisfied: click in c:\\users\\aishw\\anaconda3\\lib\\site-packages (from nltk>=3.1->textblob) (8.0.4)\n",
            "Requirement already satisfied: joblib in c:\\users\\aishw\\anaconda3\\lib\\site-packages (from nltk>=3.1->textblob) (1.2.0)\n",
            "Requirement already satisfied: regex>=2021.8.3 in c:\\users\\aishw\\anaconda3\\lib\\site-packages (from nltk>=3.1->textblob) (2022.7.9)\n",
            "Requirement already satisfied: tqdm in c:\\users\\aishw\\anaconda3\\lib\\site-packages (from nltk>=3.1->textblob) (4.65.0)\n",
            "Requirement already satisfied: colorama in c:\\users\\aishw\\anaconda3\\lib\\site-packages (from click->nltk>=3.1->textblob) (0.4.6)\n",
            "Installing collected packages: textblob\n",
            "Successfully installed textblob-0.17.1\n"
          ]
        }
      ],
      "source": [
        "#!pip install textblob"
      ]
    },
    {
      "cell_type": "code",
      "execution_count": null,
      "id": "d16cbfbb",
      "metadata": {
        "id": "d16cbfbb",
        "outputId": "07a65333-4854-482d-f077-8b105366f736"
      },
      "outputs": [
        {
          "name": "stdout",
          "output_type": "stream",
          "text": [
            "Collecting vaderSentiment\n",
            "  Downloading vaderSentiment-3.3.2-py2.py3-none-any.whl (125 kB)\n",
            "     ---------------------------------------- 0.0/126.0 kB ? eta -:--:--\n",
            "     --- ------------------------------------ 10.2/126.0 kB ? eta -:--:--\n",
            "     --------- --------------------------- 30.7/126.0 kB 262.6 kB/s eta 0:00:01\n",
            "     ------------------ ------------------ 61.4/126.0 kB 469.7 kB/s eta 0:00:01\n",
            "     -----------------------------------  122.9/126.0 kB 602.4 kB/s eta 0:00:01\n",
            "     -----------------------------------  122.9/126.0 kB 602.4 kB/s eta 0:00:01\n",
            "     ------------------------------------ 126.0/126.0 kB 389.6 kB/s eta 0:00:00\n",
            "Requirement already satisfied: requests in c:\\users\\aishw\\anaconda3\\lib\\site-packages (from vaderSentiment) (2.31.0)\n",
            "Requirement already satisfied: charset-normalizer<4,>=2 in c:\\users\\aishw\\anaconda3\\lib\\site-packages (from requests->vaderSentiment) (2.0.4)\n",
            "Requirement already satisfied: idna<4,>=2.5 in c:\\users\\aishw\\anaconda3\\lib\\site-packages (from requests->vaderSentiment) (3.4)\n",
            "Requirement already satisfied: urllib3<3,>=1.21.1 in c:\\users\\aishw\\anaconda3\\lib\\site-packages (from requests->vaderSentiment) (1.26.16)\n",
            "Requirement already satisfied: certifi>=2017.4.17 in c:\\users\\aishw\\anaconda3\\lib\\site-packages (from requests->vaderSentiment) (2023.7.22)\n",
            "Installing collected packages: vaderSentiment\n",
            "Successfully installed vaderSentiment-3.3.2\n"
          ]
        }
      ],
      "source": [
        "#!pip install vaderSentiment"
      ]
    },
    {
      "cell_type": "code",
      "execution_count": null,
      "id": "b98392a8",
      "metadata": {
        "id": "b98392a8"
      },
      "outputs": [],
      "source": [
        "from vaderSentiment.vaderSentiment import SentimentIntensityAnalyzer\n",
        "sid_obj = SentimentIntensityAnalyzer()"
      ]
    },
    {
      "cell_type": "code",
      "execution_count": null,
      "id": "8bad0653",
      "metadata": {
        "id": "8bad0653"
      },
      "outputs": [],
      "source": [
        "import tkinter as tk\n",
        "from tkinter import *\n",
        "from tkinter import ttk\n",
        "from textblob import TextBlob"
      ]
    },
    {
      "cell_type": "code",
      "execution_count": null,
      "id": "66b93dfa",
      "metadata": {
        "id": "66b93dfa"
      },
      "outputs": [],
      "source": [
        "window=Tk()\n",
        "window.geometry('600x400')\n",
        "window.config(bg='#7BDCC4')\n",
        "window.title('Sentiment Analyzer')\n",
        "window.resizable(width=False,height=False)\n",
        "\n",
        "\n",
        "displayResult=StringVar()\n",
        "\n",
        "def check_sentiment():\n",
        "    user_input=inputText_field.get()\n",
        "\n",
        "    res=TextBlob(user_input)\n",
        "    res=sid_obj.polarity_scores(res)\n",
        "\n",
        "    if res['compound']>=0.05:\n",
        "        displayResult.set('positive')\n",
        "        inputText_field.delete(0,END)\n",
        "\n",
        "    elif res['compound']<=-0.05:\n",
        "       displayResult.set('negative')\n",
        "       inputText_field.delete(0,END)\n",
        "    else:\n",
        "       displayResult.set('neutral')\n",
        "       inputText_field.delete(0,END)\n",
        "\n",
        "title=Label(window,text=\"Sentiment Analyzer please insert some text below\",\n",
        "            fg='#F0FC8A',bg='#7BDCC4',font=('Arial',16))\n",
        "inputText_field=Entry(window,font=('Arial',12))\n",
        "button1=Button(window,text='classify text',fg='#FAFAFA',bg='#8DB7F5',\n",
        "               font=('Arial',14),command=check_sentiment)\n",
        "outputLabel=Label(window,fg='#31DF56',bg='#8DB7F5',font=('Arial',16),\n",
        "                  textvariable=displayResult)\n",
        "\n",
        "title.place(x=75,y=50)\n",
        "inputText_field.place(x=120,y=120)\n",
        "button1.place(x=320,y=120)\n",
        "outputLabel.place(x=250,y=200)\n",
        "\n",
        "\n",
        "window.mainloop()"
      ]
    },
    {
      "cell_type": "code",
      "execution_count": null,
      "id": "2a9b42b7",
      "metadata": {
        "id": "2a9b42b7"
      },
      "outputs": [],
      "source": []
    },
    {
      "cell_type": "code",
      "execution_count": null,
      "id": "9ab439b9",
      "metadata": {
        "id": "9ab439b9"
      },
      "outputs": [],
      "source": []
    }
  ],
  "metadata": {
    "kernelspec": {
      "display_name": "Python 3 (ipykernel)",
      "language": "python",
      "name": "python3"
    },
    "language_info": {
      "codemirror_mode": {
        "name": "ipython",
        "version": 3
      },
      "file_extension": ".py",
      "mimetype": "text/x-python",
      "name": "python",
      "nbconvert_exporter": "python",
      "pygments_lexer": "ipython3",
      "version": "3.11.5"
    },
    "colab": {
      "provenance": [],
      "include_colab_link": true
    }
  },
  "nbformat": 4,
  "nbformat_minor": 5
}